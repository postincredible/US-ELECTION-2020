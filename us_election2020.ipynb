{
 "cells": [
  {
   "cell_type": "code",
   "execution_count": 57,
   "metadata": {},
   "outputs": [],
   "source": [
    "import requests\n",
    "import urllib.request\n",
    "import time\n",
    "from bs4 import BeautifulSoup\n",
    "import pandas as pd\n",
    "import numpy as np"
   ]
  },
  {
   "cell_type": "code",
   "execution_count": 80,
   "metadata": {},
   "outputs": [
    {
     "name": "stdout",
     "output_type": "stream",
     "text": [
      "<Response [200]>\n"
     ]
    }
   ],
   "source": [
    "url = 'https://www.nytimes.com/interactive/2020/11/03/us/elections/results-president.html'\n",
    "#url = 'https://www.nytimes.com/interactive/2020/11/03/us/elections/results-georgia-president.html'\n",
    "response = requests.get(url)\n",
    "print(response)  # if 200, it went through\n",
    "\n",
    "soup = BeautifulSoup(response.text, 'html.parser')\n",
    "t10=soup.findAll('table', attrs={'class':\"e-key-states-table\" })\n",
    "t100=soup.findAll('td', attrs={'class':\"e-key-states-state\" })\n",
    "t200=soup.findAll('td', attrs={'class':\"e-key-states-margin\" })\n",
    "t1000=soup.findAll('td', attrs={'class':\"e-key-states-vote\" })\n",
    "\n",
    "state=[]\n",
    "for s in t100:\n",
    "    st = s.text.replace('›','')\n",
    "    state.append(st)\n",
    "    #print(st)\n",
    "\n",
    "margin=[]\n",
    "for t in t1000:\n",
    "    diff = t.text\n",
    "    margin.append(diff)\n",
    "    #print(diff)\n",
    "\n",
    "leading=[]\n",
    "for l in t200:\n",
    "    le = l.text+'%'\n",
    "    leading.append(le)\n",
    "   #print(le)"
   ]
  },
  {
   "cell_type": "code",
   "execution_count": 81,
   "metadata": {},
   "outputs": [
    {
     "data": {
      "text/html": [
       "<div>\n",
       "<style scoped>\n",
       "    .dataframe tbody tr th:only-of-type {\n",
       "        vertical-align: middle;\n",
       "    }\n",
       "\n",
       "    .dataframe tbody tr th {\n",
       "        vertical-align: top;\n",
       "    }\n",
       "\n",
       "    .dataframe thead th {\n",
       "        text-align: right;\n",
       "    }\n",
       "</style>\n",
       "<table border=\"1\" class=\"dataframe\">\n",
       "  <thead>\n",
       "    <tr style=\"text-align: right;\">\n",
       "      <th></th>\n",
       "      <th>STATE</th>\n",
       "      <th>VOTE MARGIN</th>\n",
       "      <th>LEADING</th>\n",
       "    </tr>\n",
       "  </thead>\n",
       "  <tbody>\n",
       "    <tr>\n",
       "      <th>0</th>\n",
       "      <td>Mich.</td>\n",
       "      <td>+146,896</td>\n",
       "      <td>Biden +3%</td>\n",
       "    </tr>\n",
       "    <tr>\n",
       "      <th>1</th>\n",
       "      <td>Minn.</td>\n",
       "      <td>+232,172</td>\n",
       "      <td>Biden +7%</td>\n",
       "    </tr>\n",
       "    <tr>\n",
       "      <th>2</th>\n",
       "      <td>Wis.</td>\n",
       "      <td>+20,534</td>\n",
       "      <td>Biden +0.6%</td>\n",
       "    </tr>\n",
       "    <tr>\n",
       "      <th>3</th>\n",
       "      <td>Fla.</td>\n",
       "      <td>+377,023</td>\n",
       "      <td>Trump +3%</td>\n",
       "    </tr>\n",
       "    <tr>\n",
       "      <th>4</th>\n",
       "      <td>Ohio</td>\n",
       "      <td>+461,657</td>\n",
       "      <td>Trump +8%</td>\n",
       "    </tr>\n",
       "    <tr>\n",
       "      <th>5</th>\n",
       "      <td>Ga.</td>\n",
       "      <td>+1,709</td>\n",
       "      <td>Trump &lt;0.1%</td>\n",
       "    </tr>\n",
       "    <tr>\n",
       "      <th>6</th>\n",
       "      <td>N.C.</td>\n",
       "      <td>+76,737</td>\n",
       "      <td>Trump +1.4%</td>\n",
       "    </tr>\n",
       "    <tr>\n",
       "      <th>7</th>\n",
       "      <td>Pa.</td>\n",
       "      <td>+22,576</td>\n",
       "      <td>Trump +0.3%</td>\n",
       "    </tr>\n",
       "    <tr>\n",
       "      <th>8</th>\n",
       "      <td>Ariz.</td>\n",
       "      <td>+47,052</td>\n",
       "      <td>Biden +1.5%</td>\n",
       "    </tr>\n",
       "    <tr>\n",
       "      <th>9</th>\n",
       "      <td>Nev.</td>\n",
       "      <td>+11,438</td>\n",
       "      <td>Biden +0.9%</td>\n",
       "    </tr>\n",
       "  </tbody>\n",
       "</table>\n",
       "</div>"
      ],
      "text/plain": [
       "    STATE   VOTE MARGIN      LEADING\n",
       "0  Mich.     +146,896      Biden +3%\n",
       "1  Minn.     +232,172      Biden +7%\n",
       "2   Wis.      +20,534    Biden +0.6%\n",
       "3   Fla.     +377,023      Trump +3%\n",
       "4   Ohio     +461,657      Trump +8%\n",
       "5    Ga.       +1,709    Trump <0.1%\n",
       "6   N.C.      +76,737    Trump +1.4%\n",
       "7    Pa.      +22,576    Trump +0.3%\n",
       "8  Ariz.      +47,052    Biden +1.5%\n",
       "9   Nev.      +11,438    Biden +0.9%"
      ]
     },
     "execution_count": 81,
     "metadata": {},
     "output_type": "execute_result"
    }
   ],
   "source": [
    "merg = {'STATE': state,'VOTE MARGIN': margin, 'LEADING': leading}\n",
    "df = pd.DataFrame(merg)\n",
    "df"
   ]
  }
 ],
 "metadata": {
  "kernelspec": {
   "display_name": "Python 3",
   "language": "python",
   "name": "python3"
  },
  "language_info": {
   "codemirror_mode": {
    "name": "ipython",
    "version": 3
   },
   "file_extension": ".py",
   "mimetype": "text/x-python",
   "name": "python",
   "nbconvert_exporter": "python",
   "pygments_lexer": "ipython3",
   "version": "3.8.5"
  }
 },
 "nbformat": 4,
 "nbformat_minor": 4
}
